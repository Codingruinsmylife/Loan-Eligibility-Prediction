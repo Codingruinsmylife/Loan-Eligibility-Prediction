{
 "cells": [
  {
   "cell_type": "markdown",
   "metadata": {},
   "source": [
    "# Introduction to Loan Approval Prediction"
   ]
  },
  {
   "cell_type": "markdown",
   "metadata": {},
   "source": [
    "The Loan Approval Prediction project offers a sophisticated machine learning solution designed to empower investors in making well-informed decisions regarding loan approvals. Leveraging a **Random Forest Classifier**, the model integrates various features related to loan applicants, providing a comprehensive analysis of creditworthiness. This project not only facilitates the prediction of loan approval outcomes but also enhances transparency through a newly added **feature importance visualization**. By visualizing the significance of each feature in the decision-making process, investors can gain deeper insights into the factors influencing credit decisions. With a structured codebase and clear documentation, the Loan Approval Prediction project serves as a valuable tool for navigating the complexities of predictive modeling in the financial domain."
   ]
  },
  {
   "cell_type": "markdown",
   "metadata": {},
   "source": [
    "## Import Libraries"
   ]
  },
  {
   "cell_type": "markdown",
   "metadata": {},
   "source": [
    "The code begins by importing necessary Python libraries for data analysis, visualization, and performance evaluation. The libraries included are:\n",
    "\n",
    "1. **Pandas** - Pandas is a powerful data manipulation and analysis library in Python. It is used for loading and manipulating datasets. It provides data structures like DataFrame, making it easy to explore and preprocess tabular data.\n",
    "\n",
    "2. **Matplotlib** - Matplotlib is a widely used plotting library in Python. It is used for creating various types of plots and visualizations, such as line plots, scatter plots, histograms, and more.\n",
    "\n",
    "3. **Seaborn** - Seaborn is a statistical data visualization library built on top of Matplotlib. It enhances the aesthetic appeal of Matplotlib plots and provides additional functions for statistical visualizations.\n",
    "\n",
    "4. **Sci-kit Learn** - Scikit-learn is considered as the most useful library for machine learning in Python. The sklearn library contains a lot of efficient tools for machine learning and statistical modeling including classification, regression, clustering and dimensionality reduction."
   ]
  },
  {
   "cell_type": "code",
   "execution_count": 1,
   "metadata": {
    "application/vnd.databricks.v1+cell": {
     "cellMetadata": {
      "byteLimit": 2048000,
      "rowLimit": 10000
     },
     "inputWidgets": {},
     "nuid": "a5b9c1a3-2d27-42c1-9ba1-91fa179f90ff",
     "showTitle": false,
     "title": ""
    }
   },
   "outputs": [],
   "source": [
    "import pandas as pd\n",
    "import matplotlib.pyplot as plt\n",
    "import seaborn as sns\n",
    "from sklearn.model_selection import train_test_split, GridSearchCV\n",
    "from sklearn.ensemble import RandomForestClassifier\n",
    "from sklearn.metrics import accuracy_score, classification_report\n",
    "from sklearn.preprocessing import OneHotEncoder\n",
    "from sklearn.compose import ColumnTransformer\n",
    "from sklearn.pipeline import Pipeline"
   ]
  },
  {
   "cell_type": "markdown",
   "metadata": {},
   "source": [
    "## Data Loading, Exploration, and Handling"
   ]
  },
  {
   "cell_type": "markdown",
   "metadata": {},
   "source": [
    "The **pd.read_csv** function from the Pandas library is used to read the **'loan_data.csv'** file and create a DataFrame **df**, which holds the tabular data. This step is crucial for accessing and manipulating the dataset, enabling further analysis and modeling.\n",
    "\n",
    "The **info()** method provides an overview of the dataset, including the data types of each column, non-null counts, and memory usage. This information is essential for understanding the structure of the dataset and identifying potential issues such as missing values. The **isnull().sum()** method is used to count and display the number of missing values in each column.  Identifying missing values is crucial for determining data quality and deciding on appropriate handling strategies.\n",
    "\n",
    "The features **X** and the target variable **y** are defined for subsequent machine learning model training. The features encompass all columns except the 'credit.policy' column, which is designated as the target variable."
   ]
  },
  {
   "cell_type": "code",
   "execution_count": 2,
   "metadata": {
    "application/vnd.databricks.v1+cell": {
     "cellMetadata": {
      "byteLimit": 2048000,
      "rowLimit": 10000
     },
     "inputWidgets": {},
     "nuid": "508e3abf-4473-45b5-a7a7-a41590a8e1f4",
     "showTitle": false,
     "title": ""
    }
   },
   "outputs": [],
   "source": [
    "#Load dataset\n",
    "df = pd.read_csv('loan_data.csv')"
   ]
  },
  {
   "cell_type": "code",
   "execution_count": 3,
   "metadata": {
    "application/vnd.databricks.v1+cell": {
     "cellMetadata": {
      "byteLimit": 2048000,
      "rowLimit": 10000
     },
     "inputWidgets": {},
     "nuid": "fbe0bd15-e567-4dc3-8c5a-d2b9d319f3e7",
     "showTitle": false,
     "title": ""
    }
   },
   "outputs": [
    {
     "name": "stdout",
     "output_type": "stream",
     "text": [
      "Dataset Overview:\n",
      "<class 'pandas.core.frame.DataFrame'>\n",
      "RangeIndex: 9578 entries, 0 to 9577\n",
      "Data columns (total 14 columns):\n",
      " #   Column             Non-Null Count  Dtype  \n",
      "---  ------             --------------  -----  \n",
      " 0   credit.policy      9578 non-null   int64  \n",
      " 1   purpose            9578 non-null   object \n",
      " 2   int.rate           9578 non-null   float64\n",
      " 3   installment        9578 non-null   float64\n",
      " 4   log.annual.inc     9578 non-null   float64\n",
      " 5   dti                9578 non-null   float64\n",
      " 6   fico               9578 non-null   int64  \n",
      " 7   days.with.cr.line  9578 non-null   float64\n",
      " 8   revol.bal          9578 non-null   int64  \n",
      " 9   revol.util         9578 non-null   float64\n",
      " 10  inq.last.6mths     9578 non-null   int64  \n",
      " 11  delinq.2yrs        9578 non-null   int64  \n",
      " 12  pub.rec            9578 non-null   int64  \n",
      " 13  not.fully.paid     9578 non-null   int64  \n",
      "dtypes: float64(6), int64(7), object(1)\n",
      "memory usage: 1.0+ MB\n",
      "None\n"
     ]
    }
   ],
   "source": [
    "#Data exploration and handling\n",
    "print(\"Dataset Overview:\")\n",
    "print(df.info())"
   ]
  },
  {
   "cell_type": "code",
   "execution_count": 4,
   "metadata": {
    "application/vnd.databricks.v1+cell": {
     "cellMetadata": {
      "byteLimit": 2048000,
      "rowLimit": 10000
     },
     "inputWidgets": {},
     "nuid": "d5f4761b-a32c-4e65-82e1-bffde73ca158",
     "showTitle": false,
     "title": ""
    }
   },
   "outputs": [
    {
     "name": "stdout",
     "output_type": "stream",
     "text": [
      "Missing Values:\n",
      "credit.policy        0\n",
      "purpose              0\n",
      "int.rate             0\n",
      "installment          0\n",
      "log.annual.inc       0\n",
      "dti                  0\n",
      "fico                 0\n",
      "days.with.cr.line    0\n",
      "revol.bal            0\n",
      "revol.util           0\n",
      "inq.last.6mths       0\n",
      "delinq.2yrs          0\n",
      "pub.rec              0\n",
      "not.fully.paid       0\n",
      "dtype: int64\n"
     ]
    }
   ],
   "source": [
    "#Check for missing values\n",
    "print(\"Missing Values:\")\n",
    "print(df.isnull().sum())"
   ]
  },
  {
   "cell_type": "code",
   "execution_count": 5,
   "metadata": {
    "application/vnd.databricks.v1+cell": {
     "cellMetadata": {
      "byteLimit": 2048000,
      "rowLimit": 10000
     },
     "inputWidgets": {},
     "nuid": "87db114b-4d10-4de1-a993-fbc2ca372c90",
     "showTitle": false,
     "title": ""
    }
   },
   "outputs": [],
   "source": [
    "# Define features and target variable\n",
    "X = df.drop('credit.policy', axis=1)\n",
    "y = df['credit.policy']"
   ]
  },
  {
   "cell_type": "markdown",
   "metadata": {},
   "source": [
    "## Model Training "
   ]
  },
  {
   "cell_type": "markdown",
   "metadata": {},
   "source": [
    "The **train_test_split** function from scikit-learn is employed to partition the dataset into training and testing sets. This ensures the model's performance is evaluated on unseen data. The training set **(X_train, y_train)** is used to train the model, while the testing set (X_test, y_test) evaluates its generalization performance."
   ]
  },
  {
   "cell_type": "code",
   "execution_count": 6,
   "metadata": {
    "application/vnd.databricks.v1+cell": {
     "cellMetadata": {
      "byteLimit": 2048000,
      "rowLimit": 10000
     },
     "inputWidgets": {},
     "nuid": "c8fda288-ef32-4104-ba69-2f494d32c67b",
     "showTitle": false,
     "title": ""
    }
   },
   "outputs": [],
   "source": [
    "# Split the data into training and testing sets\n",
    "X_train, X_test, y_train, y_test = train_test_split(X, y, test_size=0.2, random_state=42)\n",
    "\n",
    "# Define preprocessing steps\n",
    "categorical_features = ['purpose']\n",
    "numeric_features = X.select_dtypes(include=['float64', 'int64']).columns\n",
    "\n",
    "preprocessor = ColumnTransformer(\n",
    "    transformers=[\n",
    "        ('num', 'passthrough', numeric_features),\n",
    "        ('cat', OneHotEncoder(), categorical_features)\n",
    "    ])"
   ]
  },
  {
   "cell_type": "markdown",
   "metadata": {},
   "source": [
    "## Define Preprocessing Steps"
   ]
  },
  {
   "cell_type": "markdown",
   "metadata": {},
   "source": [
    " A preprocessing pipeline is defined to handle numerical and categorical features separately. Numerical features are passed through unchanged, while categorical features are one-hot encoded. **The ColumnTransformer** facilitates the application of specific transformations to different types of features.\n",
    " \n",
    "The pipeline is constructed, combining the defined preprocessing steps and a Random Forest Classifier. This pipeline streamlines the workflow and ensures consistency. The pipeline automates the execution of preprocessing and model training steps."
   ]
  },
  {
   "cell_type": "code",
   "execution_count": 7,
   "metadata": {
    "application/vnd.databricks.v1+cell": {
     "cellMetadata": {
      "byteLimit": 2048000,
      "rowLimit": 10000
     },
     "inputWidgets": {},
     "nuid": "abc14eff-df1b-47c8-8beb-42c9f3fdf0e9",
     "showTitle": false,
     "title": ""
    }
   },
   "outputs": [],
   "source": [
    "# Create a pipeline with preprocessing and the random forest classifier\n",
    "pipeline = Pipeline([\n",
    "    ('preprocessor', preprocessor),\n",
    "    ('classifier', RandomForestClassifier(random_state=42))\n",
    "])"
   ]
  },
  {
   "cell_type": "markdown",
   "metadata": {},
   "source": [
    "## Hyperparameter Tuning"
   ]
  },
  {
   "cell_type": "markdown",
   "metadata": {},
   "source": [
    "A grid of hyperparameters for the Random Forest Classifier is defined. GridSearchCV will search through these combinations to find the optimal configuration. The grid serves as a guide for **exploring different hyperparameter values** during the model tuning process. GridSearchCV systematically searches through the hyperparameter grid, performing cross-validation to find the combination that maximizes the specified scoring metric. \n",
    "\n",
    "The final model, with optimized hyperparameters, is obtained from the results of the grid search and is ready for evaluation."
   ]
  },
  {
   "cell_type": "code",
   "execution_count": 9,
   "metadata": {
    "application/vnd.databricks.v1+cell": {
     "cellMetadata": {
      "byteLimit": 2048000,
      "rowLimit": 10000
     },
     "inputWidgets": {},
     "nuid": "3be1ea99-c206-4fcc-ba1d-28a363b9e2b0",
     "showTitle": false,
     "title": ""
    }
   },
   "outputs": [
    {
     "data": {
      "text/plain": [
       "GridSearchCV(cv=5,\n",
       "             estimator=Pipeline(steps=[('preprocessor',\n",
       "                                        ColumnTransformer(transformers=[('num',\n",
       "                                                                         'passthrough',\n",
       "                                                                         Index(['int.rate', 'installment', 'log.annual.inc', 'dti', 'fico',\n",
       "       'days.with.cr.line', 'revol.bal', 'revol.util', 'inq.last.6mths',\n",
       "       'delinq.2yrs', 'pub.rec', 'not.fully.paid'],\n",
       "      dtype='object')),\n",
       "                                                                        ('cat',\n",
       "                                                                         OneHotEncoder(),\n",
       "                                                                         ['purpose'])])),\n",
       "                                       ('classifier',\n",
       "                                        RandomForestClassifier(random_state=42))]),\n",
       "             n_jobs=-1,\n",
       "             param_grid={'classifier__max_depth': [None, 10, 20],\n",
       "                         'classifier__min_samples_leaf': [1, 2, 4],\n",
       "                         'classifier__min_samples_split': [2, 5, 10],\n",
       "                         'classifier__n_estimators': [50, 100, 150]},\n",
       "             scoring='accuracy')"
      ]
     },
     "execution_count": 9,
     "metadata": {},
     "output_type": "execute_result"
    }
   ],
   "source": [
    "# Define hyperparameter grid for GridSearchCV\n",
    "param_grid = {\n",
    "    'classifier__n_estimators': [50, 100, 150],\n",
    "    'classifier__max_depth': [None, 10, 20],\n",
    "    'classifier__min_samples_split': [2, 5, 10],\n",
    "    'classifier__min_samples_leaf': [1, 2, 4]\n",
    "}\n",
    "\n",
    "# Use GridSearchCV for hyperparameter tuning\n",
    "grid_search = GridSearchCV(pipeline, param_grid=param_grid, cv=5, scoring='accuracy', n_jobs=-1)\n",
    "grid_search.fit(X_train, y_train)"
   ]
  },
  {
   "cell_type": "markdown",
   "metadata": {},
   "source": [
    "## Model Evaluation"
   ]
  },
  {
   "cell_type": "markdown",
   "metadata": {},
   "source": [
    "The best-performing model is extracted from the results of the hyperparameter tuning performed using GridSearchCV. The **best_model** variable now holds the optimal configuration of the model for making predictions.\n",
    "\n",
    "The accuracy of the model's predictions on the test set is computed and the accuracy score provides a straightforward measure of the model's overall performance.\n",
    "\n",
    "The code then generates a detailed classification report, including **precision**, **recall**, and **F1-score** for each class. The classification report provides a more nuanced understanding of the model's performance across different classes."
   ]
  },
  {
   "cell_type": "code",
   "execution_count": 10,
   "metadata": {
    "application/vnd.databricks.v1+cell": {
     "cellMetadata": {
      "byteLimit": 2048000,
      "rowLimit": 10000
     },
     "inputWidgets": {},
     "nuid": "6a44a7d5-f6d4-4715-bd6c-a376b545311c",
     "showTitle": false,
     "title": ""
    }
   },
   "outputs": [],
   "source": [
    "# Get the best model from GridSearchCV\n",
    "best_model = grid_search.best_estimator_\n",
    "\n",
    "# Make predictions on the test set\n",
    "y_pred = best_model.predict(X_test)"
   ]
  },
  {
   "cell_type": "code",
   "execution_count": 11,
   "metadata": {
    "application/vnd.databricks.v1+cell": {
     "cellMetadata": {
      "byteLimit": 2048000,
      "rowLimit": 10000
     },
     "inputWidgets": {},
     "nuid": "cddd7abd-cdfb-411e-b82d-eebef812b9ae",
     "showTitle": false,
     "title": ""
    }
   },
   "outputs": [
    {
     "name": "stdout",
     "output_type": "stream",
     "text": [
      "Accuracy: 0.99\n",
      "Classification Report:\n",
      "               precision    recall  f1-score   support\n",
      "\n",
      "           0       0.98      0.95      0.96       372\n",
      "           1       0.99      0.99      0.99      1544\n",
      "\n",
      "    accuracy                           0.99      1916\n",
      "   macro avg       0.98      0.97      0.98      1916\n",
      "weighted avg       0.99      0.99      0.99      1916\n",
      "\n",
      "Best Hyperparameters:\n",
      " {'classifier__max_depth': 20, 'classifier__min_samples_leaf': 1, 'classifier__min_samples_split': 2, 'classifier__n_estimators': 50}\n"
     ]
    }
   ],
   "source": [
    "# Evaluate the model\n",
    "accuracy = accuracy_score(y_test, y_pred)\n",
    "print(f\"Accuracy: {accuracy:.2f}\")\n",
    "\n",
    "# Display classification report\n",
    "print(\"Classification Report:\\n\", classification_report(y_test, y_pred))\n",
    "\n",
    "# Display the best hyperparameters from GridSearchCV\n",
    "print(\"Best Hyperparameters:\\n\", grid_search.best_params_)"
   ]
  },
  {
   "cell_type": "markdown",
   "metadata": {},
   "source": [
    "## Feature Importance Visualization"
   ]
  },
  {
   "cell_type": "markdown",
   "metadata": {},
   "source": [
    "The code will retrieve the feature importance scores from the best-performing Random Forest Classifier within the pipeline. These scores represent the contribution of each feature to the model's predictive capability. Then, it constructs a list of feature names by combining numeric features and one-hot encoded categorical feature names. This list is crucial for creating a clear and labeled visualization.\n",
    "\n",
    "Afterwards, a **bar plot** is generated for illustrating the importance of each feature. The plot provides a visual representation of feature importance, aiding in the interpretation of the model's behavior."
   ]
  },
  {
   "cell_type": "code",
   "execution_count": 12,
   "metadata": {
    "application/vnd.databricks.v1+cell": {
     "cellMetadata": {
      "byteLimit": 2048000,
      "rowLimit": 10000
     },
     "inputWidgets": {},
     "nuid": "5c7fb364-6175-45b8-89bf-f48693017fd5",
     "showTitle": false,
     "title": ""
    }
   },
   "outputs": [],
   "source": [
    "# Visualize feature importance\n",
    "feature_importance = best_model.named_steps['classifier'].feature_importances_\n",
    "feature_names = numeric_features.tolist() + best_model.named_steps['preprocessor'].named_transformers_['cat'].get_feature_names_out(categorical_features).tolist()\n",
    "\n",
    "# Create a DataFrame for visualization\n",
    "feature_importance_df = pd.DataFrame({'Feature': feature_names, 'Importance': feature_importance})\n",
    "feature_importance_df = feature_importance_df.sort_values(by='Importance', ascending=False)"
   ]
  },
  {
   "cell_type": "code",
   "execution_count": 13,
   "metadata": {
    "application/vnd.databricks.v1+cell": {
     "cellMetadata": {
      "byteLimit": 2048000,
      "rowLimit": 10000
     },
     "inputWidgets": {},
     "nuid": "887971d7-03ca-4c52-b89e-282aba3f5148",
     "showTitle": false,
     "title": ""
    }
   },
   "outputs": [
    {
     "data": {
      "image/png": "[encoded data removed]",
      "text/plain": [
       "<Figure size 720x432 with 1 Axes>"
      ]
     },
     "metadata": {
      "needs_background": "light"
     },
     "output_type": "display_data"
    }
   ],
   "source": [
    "# Plotting feature importance\n",
    "plt.figure(figsize=(10, 6))\n",
    "sns.barplot(x='Importance', y='Feature', data=feature_importance_df)\n",
    "plt.title('Feature Importance Plot')\n",
    "plt.xlabel('Importance')\n",
    "plt.ylabel('Feature')\n",
    "plt.show()"
   ]
  },
  {
   "cell_type": "markdown",
   "metadata": {},
   "source": [
    "## Test case"
   ]
  },
  {
   "cell_type": "markdown",
   "metadata": {},
   "source": [
    "This section defines a specific scenario with input features for testing the model. This test case is representative of a situation for which the credit policy is to be predicted."
   ]
  },
  {
   "cell_type": "code",
   "execution_count": 14,
   "metadata": {
    "application/vnd.databricks.v1+cell": {
     "cellMetadata": {
      "byteLimit": 2048000,
      "rowLimit": 10000
     },
     "inputWidgets": {},
     "nuid": "b08cc86a-0f76-4a09-bbb5-1a0e6ed29457",
     "showTitle": false,
     "title": ""
    }
   },
   "outputs": [
    {
     "name": "stdout",
     "output_type": "stream",
     "text": [
      "Predicted Credit Policy: 1\n"
     ]
    }
   ],
   "source": [
    "#Create a test case which supposed to be 1 for credit policy\n",
    "test_case = {\n",
    "    'purpose': 'debt_consolidation',\n",
    "    'int.rate': 0.1461,\n",
    "    'installment': 448.18,\n",
    "    'log.annual.inc': 10.58658,\n",
    "    'dti': 21.39,\n",
    "    'fico': 677,\n",
    "    'days.with.cr.line': 2430,\n",
    "    'revol.bal': 14021,\n",
    "    'revol.util': 71.9,\n",
    "    'inq.last.6mths': 0,\n",
    "    'delinq.2yrs': 0,\n",
    "    'pub.rec': 0,\n",
    "    'not.fully.paid': 0 \n",
    "}\n",
    "\n",
    "# Convert the test case to a DataFrame\n",
    "test_df = pd.DataFrame([test_case])\n",
    "\n",
    "# Use the best_model to make predictions\n",
    "predicted_credit_policy = best_model.predict(test_df)[0]\n",
    "\n",
    "# Display the predicted credit policy\n",
    "print(f\"Predicted Credit Policy: {predicted_credit_policy}\")"
   ]
  }
 ],
 "metadata": {
  "application/vnd.databricks.v1+notebook": {
   "dashboards": [],
   "language": "python",
   "notebookMetadata": {
    "pythonIndentUnit": 2
   },
   "notebookName": "loan_approval_prediction",
   "widgets": {}
  },
  "kernelspec": {
   "display_name": "Python 3 (ipykernel)",
   "language": "python",
   "name": "python3"
  },
  "language_info": {
   "codemirror_mode": {
    "name": "ipython",
    "version": 3
   },
   "file_extension": ".py",
   "mimetype": "text/x-python",
   "name": "python",
   "nbconvert_exporter": "python",
   "pygments_lexer": "ipython3",
   "version": "3.9.12"
  }
 },
 "nbformat": 4,
 "nbformat_minor": 1
}
